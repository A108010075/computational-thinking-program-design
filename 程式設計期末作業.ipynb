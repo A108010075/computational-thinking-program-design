{
  "nbformat": 4,
  "nbformat_minor": 0,
  "metadata": {
    "colab": {
      "name": "程式設計期末作業.ipynb",
      "provenance": [],
      "collapsed_sections": [],
      "include_colab_link": true
    },
    "kernelspec": {
      "name": "python3",
      "display_name": "Python 3"
    },
    "language_info": {
      "name": "python"
    }
  },
  "cells": [
    {
      "cell_type": "markdown",
      "metadata": {
        "id": "view-in-github",
        "colab_type": "text"
      },
      "source": [
        "<a href=\"https://colab.research.google.com/github/A108010075/computational-thinking-program-design/blob/main/%E7%A8%8B%E5%BC%8F%E8%A8%AD%E8%A8%88%E6%9C%9F%E6%9C%AB%E4%BD%9C%E6%A5%AD.ipynb\" target=\"_parent\"><img src=\"https://colab.research.google.com/assets/colab-badge.svg\" alt=\"Open In Colab\"/></a>"
      ]
    },
    {
      "cell_type": "code",
      "metadata": {
        "colab": {
          "base_uri": "https://localhost:8080/"
        },
        "id": "WNOHCKLKUzV8",
        "outputId": "89a17660-693a-42b8-e1da-1155cb24136d"
      },
      "source": [
        "name = input(\"嗨你好請問你是＿\")\n",
        "print(\"你怎麼會出現在這裡？是發生什麼事嗎？\")\n",
        "print(\"我的狗不見了：我的狗不見了你有看到一隻哈士奇嗎？\")\n",
        "print(\"他在前面那個岔路出現過\")\n",
        "answer = input(\"到了岔路後要走A or B\")\n",
        "print(\"走了一小段路之後之後突然有人攔住說\")\n",
        "print(\"你是來找狗的嗎？如果是的話在之前那個岔路往Ｂ走\")\n",
        "print(\"好那我走回去看看\")\n",
        "print(\"看到了一個鐵皮屋\")\n",
        "print(\"鐵皮屋裡傳來奇怪的味道\")\n",
        "print(\"你帶著緊張的心情慢慢靠近\")\n",
        "print(\"到了鐵皮屋門口你發現裡面有狗叫聲\")\n",
        "print(\"在外面觀察了一下便進去\")\n",
        "print(\"進去了後奇怪的味道越來越強烈\")\n",
        "print(\"你也聽到了微弱的叫聲\")\n",
        "print(\"你便往地下室走去\")\n",
        "print(\"地下室傳來金屬撞擊的聲音\")\n",
        "print(\"你很擔心你的狗是否安全\")\n",
        "print(\"馬上跑了過去\")\n",
        "print(\"結果發現\")\n",
        "print(\"你家的狗跟其他狗聚在一起聊天\")\n",
        "print(\"你的哈士奇還會煮飯\")\n",
        "print(\"哈士奇問你要不要多吃一點\")\n",
        "answer = input(\"Yes or y e s\")\n",
        "print(\"吃了之後發現還不錯吃\")\n",
        "print(\"結果頭抬起來\")\n",
        "print(\"發現這只是場夢\")\n",
        "print(\"你的狗狗躺在你臉上睡得很好\")"
      ],
      "execution_count": null,
      "outputs": [
        {
          "output_type": "stream",
          "text": [
            "嗨你好請問你是＿ㄜ\n",
            "你怎麼會出現在這裡？是發生什麼事嗎？\n",
            "我的狗不見了：我的狗不見了你有看到一隻哈士奇嗎？\n",
            "他在前面那個岔路出現過\n",
            "到了岔路後要走A or BＡ\n",
            "走了一小段路之後之後突然有人攔住說\n",
            "你是來找狗的嗎？如果是的話在之前那個岔路往Ｂ走\n",
            "好那我走回去看看\n",
            "看到了一個鐵皮屋\n",
            "鐵皮屋裡傳來奇怪的味道\n",
            "你帶著緊張的心情慢慢靠近\n",
            "到了鐵皮屋門口你發現裡面有狗叫聲\n",
            "在外面觀察了一下便進去\n",
            "進去了後奇怪的味道越來越強烈\n",
            "你也聽到了微弱的叫聲\n",
            "你便往地下室走去\n",
            "地下室傳來金屬撞擊的聲音\n",
            "你很擔心你的狗是否安全\n",
            "馬上跑了過去\n",
            "結果發現\n",
            "你家的狗跟其他狗聚在一起聊天\n",
            "你的哈士奇還會煮飯\n",
            "哈士奇問你要不要多吃一點\n",
            "Yes or y e syes\n",
            "吃了之後發現還不錯吃\n",
            "結果頭抬起來\n",
            "發現這只是場夢\n",
            "你的狗狗躺在你臉上睡得很好\n"
          ],
          "name": "stdout"
        }
      ]
    },
    {
      "cell_type": "code",
      "metadata": {
        "id": "huTXGbZHsMzi"
      },
      "source": [
        ""
      ],
      "execution_count": null,
      "outputs": []
    }
  ]
}