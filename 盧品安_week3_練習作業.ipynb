{
  "nbformat": 4,
  "nbformat_minor": 0,
  "metadata": {
    "colab": {
      "name": "盧品安-week3-練習作業.ipynb",
      "provenance": [],
      "collapsed_sections": [],
      "authorship_tag": "ABX9TyP42NRe2CtsuQks2riYcgmB",
      "include_colab_link": true
    },
    "kernelspec": {
      "name": "python3",
      "display_name": "Python 3"
    }
  },
  "cells": [
    {
      "cell_type": "markdown",
      "metadata": {
        "id": "view-in-github",
        "colab_type": "text"
      },
      "source": [
        "<a href=\"https://colab.research.google.com/github/A108010075/computational-thinking-program-design/blob/main/%E7%9B%A7%E5%93%81%E5%AE%89_week3_%E7%B7%B4%E7%BF%92%E4%BD%9C%E6%A5%AD.ipynb\" target=\"_parent\"><img src=\"https://colab.research.google.com/assets/colab-badge.svg\" alt=\"Open In Colab\"/></a>"
      ]
    },
    {
      "cell_type": "markdown",
      "metadata": {
        "id": "S0SSWKD0NrN0"
      },
      "source": [
        "#隨堂練習"
      ]
    },
    {
      "cell_type": "code",
      "metadata": {
        "id": "b58sy6iFOnQ5"
      },
      "source": [
        ""
      ],
      "execution_count": null,
      "outputs": []
    },
    {
      "cell_type": "markdown",
      "metadata": {
        "id": "FpmvmC8YOaq8"
      },
      "source": [
        "#課後練習"
      ]
    },
    {
      "cell_type": "markdown",
      "metadata": {
        "id": "S0HD4kx8ROAL"
      },
      "source": [
        "課後練習則為從一則新聞報導，提出你對新聞系（OO系）學生為什麼要學「運算思維與程式設計」的見解。（告訴我新聞連結，以及你的觀點即可。）\r\n"
      ]
    },
    {
      "cell_type": "markdown",
      "metadata": {
        "id": "otGp2ohMRUFK"
      },
      "source": [
        "https://talk.ltn.com.tw/article/paper/1388928"
      ]
    },
    {
      "cell_type": "markdown",
      "metadata": {
        "id": "6Vq1_7-ERqdx"
      },
      "source": [
        "我認為程式設計是21世紀裡必備的技能,使用電腦來解決問題.不但錯誤率降低,也解決了許多未解問題"
      ]
    },
    {
      "cell_type": "code",
      "metadata": {
        "id": "oxbQ6_gfOVSr"
      },
      "source": [
        ""
      ],
      "execution_count": null,
      "outputs": []
    }
  ]
}